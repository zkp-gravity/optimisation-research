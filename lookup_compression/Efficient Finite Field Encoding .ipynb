{
 "cells": [
  {
   "cell_type": "markdown",
   "id": "675b3c6d",
   "metadata": {},
   "source": [
    "# Efficiently Provable Bit Decoding in a Finite Field\n",
    "\n",
    "Below, we provide an implementation of a protocol that can generate proofs for the value of the $i^{th}$ bit of $n$ bits encoded in a single field element.\n",
    "\n",
    "This protocol operates within finite field arithmetic, leveraging the property that some numbers have square roots while others don't, as a mechanism to encode bits into a field element.\n",
    "\n",
    "## Overview\n",
    "The protocol's intent is to take $n$ bits, encode them into a single field element, and subsequently allow for a proof that a given $i^{th}$ bit of the encoded $n$ bits was indeed either a 1 or a 0. Impressively, our protocol requires only a single constraint to provide this proof for the $i^{th}$ bit.\n",
    "\n",
    "## Motivation\n",
    "\n",
    "The purpose of the protocol is to allow to compress binary lookup tables, as well as speed up the bit decomposition. Binary lookup tables, such as ones storing a function $f$ evaluation from domain of $\\{0, 1\\}^n \\rightarrow \\{0, 1\\}$, usually need a single field field to store each evaluation. Our protocol allows to reduce the row size by a factor of n with a single additional constraint per looked up value by compressing multiple consequtive evaluations into a single field value.\n",
    "\n",
    "## Protocol\n",
    "\n",
    "\n",
    "### Pre-processing \n",
    "\n",
    "A significant portion of this protocol relies on a precomputation step that establishes the encoding table. Once computed, this table is universally applicable and doesn't require subsequent recalculations. Currently, the computation time for this table, given $n$ bits, is approximately $O(4^n)$, with the table size also being $O(2^n)$. We anticipate that future refinements may significantly enhance this efficiency.\n",
    "\n",
    "### Encoding\n",
    "\n",
    "Post the precomputation step, the encoding of $n$ bits is straightforward. It involves looking up the encoding for the bit set in the previously calculated table.\n",
    "\n",
    "#### Example\n",
    "\n",
    "Let us consider we want to encode bits `[1, 0, 1]`. Then we will find $x$, such that:\n",
    "\n",
    "- $x$ has a square root\n",
    "- $x + 1$ does not\n",
    "- $x + 2$ does not\n",
    "- $x + 3$ does\n",
    "- $x + 4$ does\n",
    "- $x + 5$ does not\n",
    "\n",
    "This indeed requires briteforsing to find the encoding. However, using the encoding table we do not need to repeat it.\n",
    "\n",
    "### Decoding\n",
    "\n",
    "The decoding process for the $i^{th}$ bit requires examining whether the sum of the encoding field element $\\text{enc_v}$ and $2 \\times i$ is a square. If true, the bit decodes to $1$; if the sum of the encoding field element $\\text{enc_v}$ and $2 \\times i + 1$ is a square, the bit decodes to $0$. If neither condition is met, the decoding is deemed invalid.\n",
    "\n",
    "### Proving\n",
    "\n",
    "The utilization of the square root property is central to our decision-making process primarily because of its verifiability. If a prover supplies the square root of a number, it's feasible to validate with one constraint that the number indeed has a square root.\n",
    "\n",
    "Capitalizing on this, our protocol can assert that the value of the $i^{th}$ bit was indeed a $1$ (or $0$) by verifying that $ \\text{root}^2 == \\text{enc_v} + 2 \\times i + 1 $.\n",
    "\n",
    "Consequently, the entirety of the $n$ bits can be decoded with a mere $n$ constraints.\n"
   ]
  },
  {
   "cell_type": "code",
   "execution_count": 1,
   "id": "92e2bdf6",
   "metadata": {},
   "outputs": [],
   "source": [
    "from sage.all import *;\n",
    "import math"
   ]
  },
  {
   "cell_type": "markdown",
   "id": "d152b387",
   "metadata": {},
   "source": [
    "### Field Setup"
   ]
  },
  {
   "cell_type": "code",
   "execution_count": 2,
   "id": "39cc3dcc",
   "metadata": {},
   "outputs": [],
   "source": [
    "# Finite Field we have a constraint system in\n",
    "p = 0x30644e72e131a029b85045b68181585d2833e84879b9709143e1f593f0000001\n",
    "F = FiniteField(p)"
   ]
  },
  {
   "cell_type": "markdown",
   "id": "944f73fd",
   "metadata": {},
   "source": [
    "### Generate the Encoding Table \n",
    "This requires quite a bit of work, O(2^(2n)) in the amount of bits we want to encode.\n",
    "Though we only need to do it once and then we can cash results, use the decoding table anywhere."
   ]
  },
  {
   "cell_type": "code",
   "execution_count": 3,
   "id": "dd1481d2",
   "metadata": {},
   "outputs": [],
   "source": [
    "def get_sqrt(n):\n",
    "    \"\"\"\n",
    "    Return the square root of a number `n` in a finite field.\n",
    "    \n",
    "    Parameters:\n",
    "    - n: Number to compute the square root for.\n",
    "\n",
    "    Returns:\n",
    "    - Square root of `n` if it exists, otherwise None.\n",
    "    \"\"\"\n",
    "    \n",
    "    fn = F(n)\n",
    "    \n",
    "    try:\n",
    "        return sqrt(fn, extend=False)\n",
    "    except ValueError:\n",
    "        return None"
   ]
  },
  {
   "cell_type": "code",
   "execution_count": 4,
   "id": "585e686f",
   "metadata": {},
   "outputs": [],
   "source": [
    "def generate_square_roots_data(amount, start=0):\n",
    "    \"\"\"\n",
    "    Precompute the square roots of a specified amount of numbers, starting \n",
    "    from a given number.\n",
    "\n",
    "    Parameters:\n",
    "    - amount: The number of square roots to compute.\n",
    "    - start: The starting number to compute the square root from. Defaults to 0.\n",
    "\n",
    "    Returns:\n",
    "    - A list of tuples, each containing a number and a boolean indicating \n",
    "      whether the number has a valid square root.\n",
    "    \"\"\"\n",
    "\n",
    "    return [(i, get_sqrt(i) is not None) for i in range(start, start + amount)]"
   ]
  },
  {
   "cell_type": "code",
   "execution_count": 5,
   "id": "2fd00e4a",
   "metadata": {},
   "outputs": [],
   "source": [
    "def has_distinct_alternating_bits(data, start_idx, length):\n",
    "    \"\"\"\n",
    "    Verify if the sequence extracted from the data has distinct alternating bits\n",
    "    for every even index. Terminate quickly for non-compliant sequences.\n",
    "    \"\"\"\n",
    "    for offset in range(0, length, 2):\n",
    "        current_bit, next_bit = data[start_idx + offset][1], data[start_idx + offset + 1][1]\n",
    "\n",
    "        # A sequence isn't of interest if two consecutive bits are the same\n",
    "        if (current_bit and next_bit) or (not current_bit and not next_bit):\n",
    "            return False\n",
    "\n",
    "    return True\n",
    "\n",
    "\n",
    "def generate_encoding_map(bit_size_to_encode, data=None, extend_data=False):\n",
    "    \"\"\"\n",
    "    Construct a mapping of encoding values to the original numbers based \n",
    "    on the defined encoding criteria.\n",
    "    \"\"\"\n",
    "    \n",
    "    # Calculate encoding bit size as it's double the input bit size\n",
    "    encoding_bit_size = bit_size_to_encode * 2\n",
    "    \n",
    "    # If data isn't provided, create an initial data structure\n",
    "    if data is None:\n",
    "        data = generate_square_roots_data(encoding_bit_size)\n",
    "        extend_data = True\n",
    "    \n",
    "    # Initialize the map with None values\n",
    "    encoding_map = {}\n",
    "    start_idx = 0\n",
    "    required_encodings = 2 ** bit_size_to_encode\n",
    "    \n",
    "    while required_encodings > 0:\n",
    "        if start_idx == len(data) - encoding_bit_size + 1:\n",
    "            if not extend_data:\n",
    "                return encoding_map\n",
    "            \n",
    "            # Extend data for the next round of encoding\n",
    "            data += generate_square_roots_data(len(data), len(data))\n",
    "             \n",
    "        if not has_distinct_alternating_bits(data, start_idx, encoding_bit_size):\n",
    "            start_idx += 1\n",
    "            continue\n",
    "            \n",
    "        # Derive the original value from the encoded pattern\n",
    "        pattern_bits = [data[start_idx + offset][1] for offset in range(encoding_bit_size)]\n",
    "        original_value = sum([int(bit) << offset for offset, bit in enumerate(pattern_bits)])\n",
    "\n",
    "        # If this original value hasn't been encoded yet, store it\n",
    "        if original_value not in encoding_map:\n",
    "            encoding_map[original_value] = data[start_idx][0]\n",
    "            required_encodings -= 1\n",
    "\n",
    "        start_idx += 1\n",
    "\n",
    "    return encoding_map\n"
   ]
  },
  {
   "cell_type": "code",
   "execution_count": 6,
   "id": "a9df1969",
   "metadata": {},
   "outputs": [],
   "source": [
    "def has_alternating_bits_pattern(num, bit_count):\n",
    "    \"\"\"\n",
    "    Check if the binary representation of a number has an alternating bits pattern \n",
    "    for the given bit count.\n",
    "    \"\"\"\n",
    "    for _ in range(bit_count):\n",
    "        # Extract the last two bits\n",
    "        consecutive_bits = num & 0b11\n",
    "        # If not 01 and not 10 in binary, return False\n",
    "        if consecutive_bits not in (0b01, 0b10):\n",
    "            return False\n",
    "        num >>= 2  # Check the next pair of bits\n",
    "\n",
    "    # If there are no remaining bits after checking, it's a valid pattern\n",
    "    return num == 0\n",
    "\n",
    "\n",
    "def count_missing_entries_for_valid_patterns(encoding_table, bit_size_to_encode):\n",
    "    \"\"\"\n",
    "    Count the number of valid bit patterns (of interest) \n",
    "    that are missing in the encoding table.\n",
    "    \"\"\"\n",
    "    missing_count = 0\n",
    "    total_patterns = 2 ** (bit_size_to_encode * 2)  # Calculating the total number of patterns\n",
    "\n",
    "    for pattern_value in range(total_patterns):\n",
    "        if has_alternating_bits_pattern(pattern_value, bit_size_to_encode) and pattern_value not in encoding_table:\n",
    "            missing_count += 1\n",
    "\n",
    "    return missing_count"
   ]
  },
  {
   "cell_type": "markdown",
   "id": "f3b60821",
   "metadata": {},
   "source": [
    "#### Generate the Setup on the go \n",
    "The `create_encoding_map` function supports generating the sqrt data on the fly, though it is not very efficient.\n",
    "\n",
    "After we generate the table we run the `count_none_for_interest_indices` function that checks how many values still have not a valid encoding in the `encoding_table`. For a well formed `encoding_table` this should be zero."
   ]
  },
  {
   "cell_type": "code",
   "execution_count": null,
   "id": "b18e00d3",
   "metadata": {
    "scrolled": false
   },
   "outputs": [],
   "source": [
    "# Define the encoding size\n",
    "encoding_size = 16\n",
    "\n",
    "# Create the encoding table. This method has the capability to generate square root data on-the-fly when data isn't pre-provided.\n",
    "# Note: Generating the data dynamically, though possible, may not be the most efficient approach.\n",
    "encoding_table = generate_encoding_map(encoding_size)\n",
    "\n",
    "# Display the total number of square roots utilized for the given encoding size.\n",
    "print(f\"Utilized {len(encoding_table)} square roots to encode with {encoding_size} bits.\")\n",
    "\n",
    "# Identify and display the count of encodings that couldn't be mapped with the generated square roots.\n",
    "# A well-optimized encoding table would ideally have this count as zero.\n",
    "missing_encodings_count = count_missing_entries_for_valid_patterns(encoding_table, encoding_size)\n",
    "print(f\"{missing_encodings_count} of the {2**(encoding_size)} possible encodings are currently without a suitable square root mapping.\")\n"
   ]
  },
  {
   "cell_type": "markdown",
   "id": "de190411",
   "metadata": {},
   "source": [
    "#### Pregenerate the Setup\n",
    "We can also precompute the sqrt data using the `generate_square_roots_data` function. This will take a while and we need to set the size we want to generate. However, all subsequent requests will be much faster, such as when we generate the `encoding_table`."
   ]
  },
  {
   "cell_type": "code",
   "execution_count": 8,
   "id": "4e283466",
   "metadata": {},
   "outputs": [],
   "source": [
    "# Define the size of the data we want to pregenerate for square roots\n",
    "# The value `100000` has been chosen in the hope that it covers our requirements.\n",
    "data_size = 100000\n",
    "data = generate_square_roots_data(data_size)"
   ]
  },
  {
   "cell_type": "code",
   "execution_count": 9,
   "id": "6f1edffa",
   "metadata": {},
   "outputs": [
    {
     "name": "stdout",
     "output_type": "stream",
     "text": [
      "Utilized 64 square roots to encode with 6 bits.\n",
      "0 out of 64 possible encodings are missing from our encoding table.\n"
     ]
    }
   ],
   "source": [
    "# Specify the encoding size\n",
    "encoding_size = 6\n",
    "\n",
    "# Create the encoding table using the pregenerated sqrt data. \n",
    "# This approach ensures that generating the encoding table is faster.\n",
    "encoding_table = generate_encoding_map(encoding_size, data)\n",
    "\n",
    "# Display the total number of square roots utilized for the given encoding size.\n",
    "print(f\"Utilized {len(encoding_table)} square roots to encode with {encoding_size} bits.\")\n",
    "\n",
    "# Display how many potential encodings are still without a corresponding square root in our pregenerated data.\n",
    "missing_encodings_count = count_missing_entries_for_valid_patterns(encoding_table, encoding_size)\n",
    "print(f\"{missing_encodings_count} out of {2**(encoding_size)} possible encodings are missing from our encoding table.\")"
   ]
  },
  {
   "cell_type": "markdown",
   "id": "7af8bc35",
   "metadata": {},
   "source": [
    "### Encoding\n",
    "In this section, we demonstrate how a prover can consolidate a list of bit values into a singular field value. This process facilitates efficient subsequent proofs concerning the decoded value of any given i-th bit.\n",
    "\n",
    "The quantity of binary values we aim to encode aligns with the previously mentioned parameter, `encoding_size`."
   ]
  },
  {
   "cell_type": "code",
   "execution_count": 598,
   "id": "1dbf13b8",
   "metadata": {},
   "outputs": [],
   "source": [
    "def encode(bits, encoding_table):\n",
    "    \"\"\"\n",
    "    Encode a list of boolean bits into a single value using the provided encoding table.\n",
    "    \n",
    "    Args:\n",
    "        bits (List[bool]): List of boolean values representing bits.\n",
    "        encoding_table (List[int]): Precomputed encoding table.\n",
    "        \n",
    "    Returns:\n",
    "        int: The encoded value corresponding to the bits sequence.\n",
    "    \"\"\"\n",
    "    \n",
    "    binary_num = 0\n",
    "    for i, bit in enumerate(bits):\n",
    "        shift_position = 2 * i + int(not bit)\n",
    "        binary_num |= (1 << shift_position)\n",
    "    \n",
    "    # Lookup the encoding value using the computed binary number\n",
    "    encoded_value = encoding_table[binary_num]\n",
    "    \n",
    "    return encoded_value"
   ]
  },
  {
   "cell_type": "markdown",
   "id": "14398157",
   "metadata": {},
   "source": [
    "#### Example of Encoding"
   ]
  },
  {
   "cell_type": "code",
   "execution_count": 600,
   "id": "24314b69",
   "metadata": {},
   "outputs": [
    {
     "name": "stdout",
     "output_type": "stream",
     "text": [
      "\n",
      "Bits [True, False, False] were encoded into value 13.\n"
     ]
    }
   ],
   "source": [
    "# Step 1: Define the size of encoding and generate the encoding table\n",
    "encoding_size = 3\n",
    "encoding_table = generate_encoding_map(encoding_size)\n",
    "\n",
    "# Step 2: Specify the list of binary flags to encode into a field element\n",
    "bits = [True, False, False]\n",
    "\n",
    "# Step 3: Encode the binary flags into a single field element. \n",
    "encoded_bits = None\n",
    "\n",
    "# We need to verify that the number of flags is compatible with the encoding size\n",
    "if len(bits) == encoding_size:\n",
    "    encoded_bits = encode(bits, encoding_table)\n",
    "    print(f\"\\nBits {bits} were encoded into value {encoded_bits}.\")\n",
    "else:\n",
    "    print(\"\\nEncoding cannot proceed due to mismatch in the number of bits and encoding size.\")\n"
   ]
  },
  {
   "cell_type": "markdown",
   "id": "cc9dd16e",
   "metadata": {},
   "source": [
    "### Decoding\n",
    "\n",
    "The process of decoding the i-th bit from an encoded value `e` is as follows:\n",
    "\n",
    "1. **Bit is 1**: If \\(e + 2i\\) can be square-rooted, then the i-th bit is set to 1.\n",
    "2. **Bit is 0**: If \\(e + 2i + 1\\) can be square-rooted, then the i-th bit is set to 0.\n",
    "3. **Corrupted Encoding**: If both \\(e + 2i\\) and \\(e + 2i + 1\\) can either be square-rooted or cannot be square-rooted, the encoding is deemed corrupted and cannot be decoded reliably.\n",
    "\n",
    "For the decoding process, we will need to derive the square root of two distinct numbers. \n",
    "\n",
    "#### Proof of Correct Decoding\n",
    "\n",
    "To assert the correctness of the decoded i-th bit from the encoded value, the prover only has to present a number, `t`. The conditions are:\n",
    "\n",
    "- For an i-th bit valued at 1: \\(e + 2i\\) should equal \\(t^2\\).\n",
    "- For an i-th bit valued at 0: \\(e + 2i + 1\\) should equal \\(t^2\\).\n",
    "\n",
    "By satisfying the above conditions, the prover can confidently demonstrate that the decoding has been executed correctly. And one can see that, give the prover has provided `t` as a hint, we just need a single constraint to check the decoding."
   ]
  },
  {
   "cell_type": "code",
   "execution_count": 613,
   "id": "eb4b1e67",
   "metadata": {},
   "outputs": [],
   "source": [
    "class DecodingError(Exception):\n",
    "    \"\"\"Raised when decoding cannot be performed correctly.\"\"\"\n",
    "    pass\n",
    "\n",
    "def decode(encoded_value, decoded_bit_index, square_root_table=None):\n",
    "    \"\"\"Decode the i-th bit from the encoded value.\n",
    "    \n",
    "    Args:\n",
    "    - encoded_value: The encoded value to be decoded.\n",
    "    - decoded_bit_index: The position of the bit to decode.\n",
    "    - square_root_table: (Optional) A precomputed table of square roots.\n",
    "    \n",
    "    Returns:\n",
    "    - A tuple containing a boolean indicating the decoded bit and a proof of the decoding.\n",
    "    \n",
    "    Raises:\n",
    "    - DecodingError: If the decoding process encounters inconsistencies.\n",
    "    \"\"\"\n",
    "    \n",
    "    # Helper function to get the square root\n",
    "    def lookup_square_root(value):\n",
    "        if square_root_table:\n",
    "            return square_root_table.get(value)\n",
    "        else:\n",
    "            return get_sqrt(value)\n",
    "    \n",
    "    # Calculate the value to check based on the index\n",
    "    value_for_bit_1 = encoded_value + 2 * decoded_bit_index\n",
    "    value_for_bit_0 = value_for_bit_1 + 1\n",
    "\n",
    "    # Check for square root for the bit valued at 1\n",
    "    root_for_bit_1 = lookup_square_root(value_for_bit_1)\n",
    "    if root_for_bit_1 is not None:\n",
    "        # As proof, return the encoded value, decoded_bit_index, and the square root.\n",
    "        return True, (root_for_bit_1)\n",
    "\n",
    "    # Check for square root for the bit valued at 0\n",
    "    root_for_bit_0 = lookup_square_root(value_for_bit_0)\n",
    "    print(root_for_bit_0)\n",
    "    if root_for_bit_0 is not None:\n",
    "        # As proof, return the encoded value, decoded_bit_index, and the square root.\n",
    "        return False, (root_for_bit_0)\n",
    "\n",
    "    # If neither of the conditions are met, the encoding is corrupted\n",
    "    else:\n",
    "        raise DecodingError(\"The encoded value is incorrect.\")\n"
   ]
  },
  {
   "cell_type": "markdown",
   "id": "c7d66617",
   "metadata": {},
   "source": [
    "#### Example of Decoding"
   ]
  },
  {
   "cell_type": "code",
   "execution_count": 614,
   "id": "6f516dda",
   "metadata": {},
   "outputs": [
    {
     "name": "stdout",
     "output_type": "stream",
     "text": [
      "3091064037240671772801388301617798075985677455689113174543917243621579674803\n",
      "Successfully decoded bit at index 2 as False.\n"
     ]
    }
   ],
   "source": [
    "# Index of the bit we aim to decode\n",
    "bit_index = 2\n",
    "\n",
    "# Decode the value\n",
    "decoded_bit, proof = decode(encoded_bits, bit_index)\n",
    "\n",
    "# Verification\n",
    "assert(decoded_bit == bits[bit_index]), f\"Decoding failed for bit at index {bit_index}.\"\n",
    "print(f\"Successfully decoded bit at index {bit_index} as {decoded_bit}.\")"
   ]
  },
  {
   "cell_type": "markdown",
   "id": "09b22b79",
   "metadata": {},
   "source": [
    "#### Example of Proving Decoding\n",
    "We were provided with the trusted values of `encoded_bits`, and someone said that the right decoding of bit at `bit_index` is `decoded_bit`, providing `root` as a proof.\n",
    "\n",
    "To verify, we do the following:"
   ]
  },
  {
   "cell_type": "code",
   "execution_count": 617,
   "id": "550993c6",
   "metadata": {},
   "outputs": [],
   "source": [
    "root = proof\n",
    "assert(root ** 2 == encoded_bits + 2 * bit_index + (1 - decoded_bit))"
   ]
  },
  {
   "cell_type": "code",
   "execution_count": null,
   "id": "8b9b7c12",
   "metadata": {},
   "outputs": [],
   "source": []
  }
 ],
 "metadata": {
  "kernelspec": {
   "display_name": "SageMath 9.8",
   "language": "sage",
   "name": "sagemath-9.8"
  },
  "language_info": {
   "codemirror_mode": {
    "name": "ipython",
    "version": 3
   },
   "file_extension": ".py",
   "mimetype": "text/x-python",
   "name": "python",
   "nbconvert_exporter": "python",
   "pygments_lexer": "ipython3",
   "version": "3.11.1"
  }
 },
 "nbformat": 4,
 "nbformat_minor": 5
}
